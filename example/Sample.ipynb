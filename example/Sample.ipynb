{
 "cells": [
  {
   "cell_type": "markdown",
   "metadata": {},
   "source": [
    "# Example Worksheet \n",
    "This worksheet was created to show function usability and test cases passes. "
   ]
  },
  {
   "cell_type": "code",
   "execution_count": 1,
   "metadata": {},
   "outputs": [],
   "source": [
    "import matplotlib.pyplot as plt\n",
    "from colourblind8.colourblind8 import Colourblind8\n",
    "import numpy as np"
   ]
  },
  {
   "cell_type": "markdown",
   "metadata": {},
   "source": [
    "### Testing the function `plot_lines()`"
   ]
  },
  {
   "cell_type": "code",
   "execution_count": null,
   "metadata": {},
   "outputs": [],
   "source": [
    "#Here is the test data set\n",
    "x=[1,2,4,5]\n",
    "y_list=[[1,2,3.3,2.2],[2,3,3.5,4],[3,3.6,4.3,4],[4,4.2,5,5.6],[5,5.5,5.2,6.5],[6,7.2,6.1,6.9],[7,8,7.4,8],[8,9,7.8,8.2],[9,9.3,9.6,9.2]]"
   ]
  },
  {
   "cell_type": "markdown",
   "metadata": {},
   "source": [
    "#### Testing with the colour palette `deutera`"
   ]
  },
  {
   "cell_type": "code",
   "execution_count": null,
   "metadata": {
    "scrolled": true
   },
   "outputs": [],
   "source": [
    "cb = Colourblind8()\n",
    "cb.plot_lines(x=x,\n",
    "              y=y_list,\n",
    "              alpha =1.0,\n",
    "              labels =['a','b','c','d','e','f','g','h','i'], \n",
    "              palette = 'deutera', \n",
    "              title = \"Deutera Line Example\",\n",
    "              x_lab = \"X label\" , \n",
    "              y_lab = \"Y label\" , \n",
    "              legend_title = \"Legend\" );"
   ]
  },
  {
   "cell_type": "markdown",
   "metadata": {},
   "source": [
    "#### Testing with the colour palette `prota`"
   ]
  },
  {
   "cell_type": "code",
   "execution_count": null,
   "metadata": {},
   "outputs": [],
   "source": [
    "cb = Colourblind8()\n",
    "cb.plot_lines(x=x,\n",
    "              y=y_list,\n",
    "              alpha =1.0,\n",
    "              labels =['a','b','c','d','e','f','g','h','i'], \n",
    "              palette = 'prota', \n",
    "              title = \"Prota Line Example\",\n",
    "              x_lab = \"X label\" , y_lab = \"Y label\" ,\n",
    "              legend_title = \"Legend\" );"
   ]
  },
  {
   "cell_type": "markdown",
   "metadata": {},
   "source": [
    "#### Testing with the colour palette `trita`"
   ]
  },
  {
   "cell_type": "code",
   "execution_count": null,
   "metadata": {},
   "outputs": [],
   "source": [
    "cb = Colourblind8()\n",
    "cb.plot_lines(x=x,\n",
    "              y=y_list,\n",
    "              alpha =1.0,\n",
    "              labels =['a','b','c','d','e','f','g','h','i'],\n",
    "              palette = 'trita', title = \"Trita Line Example\",\n",
    "              x_lab = \"X label\" , \n",
    "              y_lab = \"Y label\" , \n",
    "              legend_title = \"Legend\" );"
   ]
  },
  {
   "cell_type": "markdown",
   "metadata": {},
   "source": [
    "### Testing the function `plot_scatter()`"
   ]
  },
  {
   "cell_type": "code",
   "execution_count": null,
   "metadata": {
    "scrolled": true
   },
   "outputs": [],
   "source": [
    "#Here is the test data set\n",
    "N = 10\n",
    "x = np.random.rand(N )\n",
    "y_1 = np.random.rand(N)\n",
    "y_2 = np.random.rand(N)\n",
    "y_3 = np.random.rand(N)\n",
    "y_4 = np.random.rand(N)\n",
    "y_5 = np.random.rand(N)\n",
    "y_6 = np.random.rand(N)\n",
    "y_7 = np.random.rand(N)\n",
    "y_8 = np.random.rand(N)\n",
    "y_9 = np.random.rand(N)\n",
    "\n",
    "y_list= []\n",
    "for i in range(9):\n",
    "    y = np.random.rand(N)\n",
    "    y_list.append(y)\n",
    "      "
   ]
  },
  {
   "cell_type": "markdown",
   "metadata": {},
   "source": [
    "#### Testing with the colour palette `deutera`"
   ]
  },
  {
   "cell_type": "code",
   "execution_count": null,
   "metadata": {},
   "outputs": [],
   "source": [
    "cb = Colourblind8()\n",
    "cb.plot_scatter(x=x, \n",
    "                y=y_list,\n",
    "                alpha =1.0, \n",
    "                labels =['a','b','c','d','e','f','g','h','i'], \n",
    "                palette = 'deutera',\n",
    "                title = \"Deutera scatterplot Example\",\n",
    "                x_lab = \"X label\" ,\n",
    "                y_lab = \"Y label\" , \n",
    "                legend_title = \"Legend\" );"
   ]
  },
  {
   "cell_type": "markdown",
   "metadata": {},
   "source": [
    "#### Testing with the colour palette `prota`"
   ]
  },
  {
   "cell_type": "code",
   "execution_count": null,
   "metadata": {},
   "outputs": [],
   "source": [
    "cb = Colourblind8()\n",
    "cb.plot_scatter(x=x,\n",
    "                y=y_list,\n",
    "                alpha =1.0,\n",
    "                labels =['a','b','c','d','e','f','g','h','i'],\n",
    "                palette = 'prota',\n",
    "                title = \"Prota scatterplot Example\", \n",
    "                x_lab = \"X label\" ,\n",
    "                y_lab = \"Y label\" ,\n",
    "                legend_title = \"Legend\" );"
   ]
  },
  {
   "cell_type": "markdown",
   "metadata": {},
   "source": [
    "#### Testing with the colour palette `trita`"
   ]
  },
  {
   "cell_type": "code",
   "execution_count": null,
   "metadata": {},
   "outputs": [],
   "source": [
    "cb = Colourblind8()\n",
    "cb.plot_scatter(x=x,\n",
    "                y=y_list,\n",
    "                alpha =1.0, \n",
    "                labels =['a','b','c','d','e','f','g','h','i'],\n",
    "                palette = 'trita',\n",
    "                title = \"Trita scatterplot Example\", \n",
    "                x_lab = \"X label\" ,\n",
    "                y_lab = \"Y label\" , \n",
    "                legend_title = \"Legend\" );"
   ]
  },
  {
   "cell_type": "markdown",
   "metadata": {},
   "source": [
    "### Testing the function `plot_histogram()`"
   ]
  },
  {
   "cell_type": "code",
   "execution_count": null,
   "metadata": {},
   "outputs": [],
   "source": [
    "# Test dataset\n",
    "test = Colourblind8()\n",
    "N = 100\n",
    "x = np.random.rand(N)\n",
    "y = np.random.rand(N)\n",
    "z = np.random.rand(N)\n",
    "list_y = [x,y,z]\n"
   ]
  },
  {
   "cell_type": "markdown",
   "metadata": {},
   "source": [
    "#### Testing with the colour palette `deutera`"
   ]
  },
  {
   "cell_type": "code",
   "execution_count": null,
   "metadata": {},
   "outputs": [],
   "source": [
    "test.plot_histogram(y = list_y,\n",
    "                 palette='deutera',\n",
    "                 x_lab=' X Label',\n",
    "                 title = 'Deutera Histogram Example', alpha = 0.5, bins =10,\n",
    "                 labels=['c', 'b', \"c\"],\n",
    "                 legend_title=\"legend\");"
   ]
  },
  {
   "cell_type": "markdown",
   "metadata": {},
   "source": [
    "#### Testing with the colour palette `prota`"
   ]
  },
  {
   "cell_type": "code",
   "execution_count": null,
   "metadata": {},
   "outputs": [],
   "source": [
    "test.plot_histogram(y = list_y,\n",
    "                 palette='prota',\n",
    "                 x_lab='X Label',\n",
    "                 title = 'Prota Histogram Example', alpha = 0.5, bins =10,\n",
    "                 labels=['c', 'b', \"c\"],\n",
    "                 legend_title=\"legend\");"
   ]
  },
  {
   "cell_type": "markdown",
   "metadata": {},
   "source": [
    "#### Testing with the colour palette `trita`"
   ]
  },
  {
   "cell_type": "code",
   "execution_count": null,
   "metadata": {},
   "outputs": [],
   "source": [
    "test.plot_histogram(y = list_y,\n",
    "                 palette='trita',\n",
    "                 x_lab='X Label',\n",
    "                 title = 'Trita Histogram Example', alpha = 0.5, bins =10,\n",
    "                 labels=['c', 'b', \"c\"],\n",
    "                 legend_title=\"legend\");"
   ]
  },
  {
   "cell_type": "markdown",
   "metadata": {},
   "source": [
    "##### "
   ]
  },
  {
   "cell_type": "code",
   "execution_count": null,
   "metadata": {},
   "outputs": [],
   "source": []
  }
 ],
 "metadata": {
  "kernelspec": {
   "display_name": "Python 3",
   "language": "python",
   "name": "python3"
  },
  "language_info": {
   "codemirror_mode": {
    "name": "ipython",
    "version": 3
   },
   "file_extension": ".py",
   "mimetype": "text/x-python",
   "name": "python",
   "nbconvert_exporter": "python",
   "pygments_lexer": "ipython3",
   "version": "3.6.8"
  }
 },
 "nbformat": 4,
 "nbformat_minor": 2
}
